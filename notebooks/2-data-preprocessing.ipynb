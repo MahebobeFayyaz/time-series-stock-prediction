{
 "cells": [
  {
   "cell_type": "markdown",
   "metadata": {},
   "source": [
    "# Time Series - Stock Price Prediction\n",
    "## Part 2 - Data Preprocessing\n",
    "This notebook focuses on processing the filtered dataset containing the historical prices of Google stocks over the past five years.\n",
    "\n",
    "> **INPUT**: Filtered dataset containing Google's stock prices from the last six years, obtained from the previous phase. <br/>\n",
    "> **OUTPUT**: Preprocessed and transformed data divided into training, validation, and testing subsets, stored in an interim location for the training phase."
   ]
  },
  {
   "cell_type": "markdown",
   "metadata": {},
   "source": [
    "### 1. INITIALIZATION"
   ]
  },
  {
   "cell_type": "code",
   "execution_count": 1,
   "metadata": {},
   "outputs": [],
   "source": [
    "# Import necessary libraries and modules\n",
    "import pandas as pd\n",
    "from sklearn.preprocessing import MinMaxScaler\n",
    "import matplotlib.pyplot as plt\n",
    "import joblib\n",
    "import matplotlib.dates as mdates"
   ]
  },
  {
   "cell_type": "code",
   "execution_count": 2,
   "metadata": {},
   "outputs": [],
   "source": [
    "# Set output width\n",
    "pd.set_option(\"display.width\", 120)"
   ]
  },
  {
   "cell_type": "markdown",
   "metadata": {},
   "source": [
    "### 2. LOADING DATASET"
   ]
  },
  {
   "cell_type": "code",
   "execution_count": 24,
   "metadata": {},
   "outputs": [],
   "source": [
    "# Prepare data file location and name\n",
    "data_file_location = \"..//data//raw//\"\n",
    "data_file_name = \"GOOG_6y\"\n",
    "data_file_ext = \"csv\"\n",
    "\n",
    "# Load data file\n",
    "data = pd.read_csv(data_file_location + data_file_name + \".\" + data_file_ext)"
   ]
  },
  {
   "cell_type": "code",
   "execution_count": 25,
   "metadata": {},
   "outputs": [
    {
     "data": {
      "text/plain": [
       "(1508, 7)"
      ]
     },
     "execution_count": 25,
     "metadata": {},
     "output_type": "execute_result"
    }
   ],
   "source": [
    "# Check loaded data shape\n",
    "data.shape"
   ]
  },
  {
   "cell_type": "code",
   "execution_count": 30,
   "metadata": {},
   "outputs": [
    {
     "data": {
      "text/html": [
       "<div>\n",
       "<style scoped>\n",
       "    .dataframe tbody tr th:only-of-type {\n",
       "        vertical-align: middle;\n",
       "    }\n",
       "\n",
       "    .dataframe tbody tr th {\n",
       "        vertical-align: top;\n",
       "    }\n",
       "\n",
       "    .dataframe thead th {\n",
       "        text-align: right;\n",
       "    }\n",
       "</style>\n",
       "<table border=\"1\" class=\"dataframe\">\n",
       "  <thead>\n",
       "    <tr style=\"text-align: right;\">\n",
       "      <th></th>\n",
       "      <th>index</th>\n",
       "      <th>Date</th>\n",
       "      <th>Close</th>\n",
       "      <th>High</th>\n",
       "      <th>Low</th>\n",
       "      <th>Open</th>\n",
       "      <th>Volume</th>\n",
       "    </tr>\n",
       "  </thead>\n",
       "  <tbody>\n",
       "    <tr>\n",
       "      <th>1503</th>\n",
       "      <td>1503</td>\n",
       "      <td>2025-09-25</td>\n",
       "      <td>246.570007</td>\n",
       "      <td>247.315002</td>\n",
       "      <td>241.649994</td>\n",
       "      <td>244.839996</td>\n",
       "      <td>17379800</td>\n",
       "    </tr>\n",
       "    <tr>\n",
       "      <th>1504</th>\n",
       "      <td>1504</td>\n",
       "      <td>2025-09-26</td>\n",
       "      <td>247.179993</td>\n",
       "      <td>250.119995</td>\n",
       "      <td>246.639999</td>\n",
       "      <td>247.785004</td>\n",
       "      <td>16594600</td>\n",
       "    </tr>\n",
       "    <tr>\n",
       "      <th>1505</th>\n",
       "      <td>1505</td>\n",
       "      <td>2025-09-29</td>\n",
       "      <td>244.360001</td>\n",
       "      <td>251.647995</td>\n",
       "      <td>243.199997</td>\n",
       "      <td>248.274994</td>\n",
       "      <td>23157200</td>\n",
       "    </tr>\n",
       "    <tr>\n",
       "      <th>1506</th>\n",
       "      <td>1506</td>\n",
       "      <td>2025-09-30</td>\n",
       "      <td>243.550003</td>\n",
       "      <td>243.675003</td>\n",
       "      <td>239.570999</td>\n",
       "      <td>243.059998</td>\n",
       "      <td>22541200</td>\n",
       "    </tr>\n",
       "    <tr>\n",
       "      <th>1507</th>\n",
       "      <td>1507</td>\n",
       "      <td>2025-10-01</td>\n",
       "      <td>245.539993</td>\n",
       "      <td>247.149994</td>\n",
       "      <td>239.199997</td>\n",
       "      <td>241.179993</td>\n",
       "      <td>23947580</td>\n",
       "    </tr>\n",
       "  </tbody>\n",
       "</table>\n",
       "</div>"
      ],
      "text/plain": [
       "      index       Date       Close        High         Low        Open    Volume\n",
       "1503   1503 2025-09-25  246.570007  247.315002  241.649994  244.839996  17379800\n",
       "1504   1504 2025-09-26  247.179993  250.119995  246.639999  247.785004  16594600\n",
       "1505   1505 2025-09-29  244.360001  251.647995  243.199997  248.274994  23157200\n",
       "1506   1506 2025-09-30  243.550003  243.675003  239.570999  243.059998  22541200\n",
       "1507   1507 2025-10-01  245.539993  247.149994  239.199997  241.179993  23947580"
      ]
     },
     "execution_count": 30,
     "metadata": {},
     "output_type": "execute_result"
    }
   ],
   "source": [
    "# Check loaded data head\n",
    "data.tail()"
   ]
  },
  {
   "cell_type": "code",
   "execution_count": 27,
   "metadata": {},
   "outputs": [
    {
     "data": {
      "text/plain": [
       "index       int64\n",
       "Date       object\n",
       "Close     float64\n",
       "High      float64\n",
       "Low       float64\n",
       "Open      float64\n",
       "Volume      int64\n",
       "dtype: object"
      ]
     },
     "execution_count": 27,
     "metadata": {},
     "output_type": "execute_result"
    }
   ],
   "source": [
    "# Check columns types\n",
    "data.dtypes"
   ]
  },
  {
   "cell_type": "markdown",
   "metadata": {},
   "source": [
    "### 3. DATA PREPROCESSING"
   ]
  },
  {
   "cell_type": "markdown",
   "metadata": {},
   "source": [
    "#### Validate Data Types"
   ]
  },
  {
   "cell_type": "code",
   "execution_count": 28,
   "metadata": {},
   "outputs": [
    {
     "data": {
      "text/plain": [
       "index              int64\n",
       "Date      datetime64[ns]\n",
       "Close            float64\n",
       "High             float64\n",
       "Low              float64\n",
       "Open             float64\n",
       "Volume             int64\n",
       "dtype: object"
      ]
     },
     "execution_count": 28,
     "metadata": {},
     "output_type": "execute_result"
    }
   ],
   "source": [
    "# Convert date column to a valid Datetime format\n",
    "data[\"Date\"] = pd.to_datetime(data[\"Date\"])\n",
    "\n",
    "# Check column types\n",
    "data.dtypes"
   ]
  },
  {
   "cell_type": "markdown",
   "metadata": {},
   "source": [
    "#### Select Independent Features"
   ]
  },
  {
   "cell_type": "markdown",
   "metadata": {},
   "source": [
    "The objective of this analysis is to implement a multi-variant prediction, taking into account possible impact of several independent features such as the Open price, Close price and Volume on future stock price performance.\n",
    "\n",
    "Therefore, in this analysis, we will incorporate all the available variables: \n",
    "- Opening price\n",
    "- Highest price\n",
    "- Lowest price\n",
    "- Closing price\n",
    "- Adjusted closing price\n",
    "- Trading volume\n",
    "\n",
    "These features will be utilized to forecast the future opening price."
   ]
  },
  {
   "cell_type": "code",
   "execution_count": 32,
   "metadata": {},
   "outputs": [],
   "source": [
    "# Define selected features and target attribute\n",
    "features = [\"Open\", \"High\", \"Low\",\t\"Close\", \"Volume\"]\n",
    "target = \"Open\""
   ]
  },
  {
   "cell_type": "markdown",
   "metadata": {},
   "source": [
    "#### Create Train, Validation, and Test Datasets"
   ]
  },
  {
   "cell_type": "markdown",
   "metadata": {},
   "source": [
    "To monitor and assess the performance of our model, we will partition the recent stock price dataset into three segments: training, validation, and testing sets.\n",
    "\n",
    "The division will be structured as follows:\n",
    "- **Training dataset:** covering the period from the start of 2019 till June, 2023.\n",
    "- **Validation dataset:** representing the stock prices from July, 2023 till the end of 2023.\n",
    "- **Testing dataset:** representing the stock prices for the first two months of 2024."
   ]
  },
  {
   "cell_type": "code",
   "execution_count": 33,
   "metadata": {},
   "outputs": [],
   "source": [
    "# Define start and end time for each period\n",
    "train_end_date = pd.to_datetime(\"2023-08-30\")\n",
    "validate_start_date = pd.to_datetime(\"2023-09-01\")\n",
    "validate_end_date = pd.to_datetime(\"2024-09-30\")\n",
    "test_start_date = pd.to_datetime(\"2024-10-01\")\n",
    "test_end_date = pd.to_datetime(\"2025-10-01\")\n",
    "\n",
    "# Split dataset into training, validation, and testing\n",
    "data_train = data[data[\"Date\"] <= train_end_date][features]\n",
    "data_train_dates = data[data[\"Date\"] <= train_end_date][\"Date\"]\n",
    "data_validate = data[(data[\"Date\"] >= validate_start_date) & (data[\"Date\"] <= validate_end_date)][features]\n",
    "data_validate_dates = data[(data[\"Date\"] >= validate_start_date) & (data[\"Date\"] <= validate_end_date)][\"Date\"]\n",
    "data_test = data[(data[\"Date\"] >= test_start_date) & (data[\"Date\"] <= test_end_date)][features]\n",
    "data_test_dates = data[(data[\"Date\"] >= test_start_date) & (data[\"Date\"] <= test_end_date)][\"Date\"]"
   ]
  },
  {
   "cell_type": "code",
   "execution_count": 34,
   "metadata": {},
   "outputs": [
    {
     "name": "stdout",
     "output_type": "stream",
     "text": [
      "Training Set: (985, 5)\n",
      "Validation Set: (271, 5)\n",
      "Testing Set: (251, 5)\n"
     ]
    }
   ],
   "source": [
    "# Display the shape of each dataset\n",
    "print(f\"Training Set: {data_train.shape}\")\n",
    "print(f\"Validation Set: {data_validate.shape}\")\n",
    "print(f\"Testing Set: {data_test.shape}\")"
   ]
  },
  {
   "cell_type": "code",
   "execution_count": 35,
   "metadata": {},
   "outputs": [
    {
     "name": "stdout",
     "output_type": "stream",
     "text": [
      "Training Dataset:\n",
      "        Open       High        Low      Close    Volume\n",
      "0  59.442219  59.442219  58.166449  58.431637  32302000\n",
      "1  58.598993  59.048914  57.726462  58.987831  32424000\n",
      "2  59.189454  60.160307  59.054377  60.039139  23248000\n",
      "3  59.810700  60.496206  59.778420  59.973583  16858000\n",
      "4  59.472516  59.894131  59.046431  59.052391  20786000\n",
      "Validation Dataset:\n",
      "           Open        High         Low       Close    Volume\n",
      "986  137.489120  137.638109  135.016053  135.870209  16671600\n",
      "987  135.512654  136.436325  134.638630  135.780823  17730200\n",
      "988  136.083760  136.545596  133.774565  134.449936  15814300\n",
      "989  133.685161  135.651699  133.049511  135.274277  16976000\n",
      "990  134.946524  136.580348  134.946524  136.267487  17810700\n",
      "Testing Dataset:\n",
      "            Open        High         Low       Close    Volume\n",
      "1257  168.124197  169.697314  165.177088  167.686111  18629500\n",
      "1258  167.028953  168.144083  165.525539  166.580917  12745000\n",
      "1259  165.097427  167.178316  164.649375  166.481369  11004300\n",
      "1260  168.602070  168.811161  166.232451  167.825470  11422100\n",
      "1261  168.402962  169.159645  163.414799  163.673660  14034700\n"
     ]
    }
   ],
   "source": [
    "# Display a summary of each dataset\n",
    "print(\"Training Dataset:\")\n",
    "print(data_train.head())\n",
    "print(\"Validation Dataset:\")\n",
    "print(data_validate.head())\n",
    "print(\"Testing Dataset:\")\n",
    "print(data_test.head())"
   ]
  },
  {
   "cell_type": "code",
   "execution_count": 36,
   "metadata": {},
   "outputs": [
    {
     "data": {
      "image/png": "[encoded data removed]",
      "text/plain": [
       "<Figure size 1800x600 with 1 Axes>"
      ]
     },
     "metadata": {},
     "output_type": "display_data"
    }
   ],
   "source": [
    "# Plot stock prices for each data split\n",
    "plt.figure(figsize=(18,6))\n",
    "plt.plot(data_train_dates, data_train[\"Open\"], color=\"cornflowerblue\")\n",
    "plt.plot(data_validate_dates, data_validate[\"Open\"], color=\"orange\")\n",
    "plt.plot(data_test_dates, data_test[\"Open\"], color=\"green\")\n",
    "plt.legend([\"Train Data\", \"Validation Data\", \"Test Data\"])\n",
    "plt.title(\"Data Split for Google Stock Price\")\n",
    "plt.xlabel(\"Samples Over Time\")\n",
    "plt.ylabel(\"Price (USD)\")\n",
    "plt.gca().xaxis.set_major_formatter(mdates.DateFormatter('%Y-%m'))\n",
    "plt.gca().xaxis.set_major_locator(mdates.MonthLocator(interval=2))\n",
    "plt.xticks(rotation=45)\n",
    "plt.grid()"
   ]
  },
  {
   "cell_type": "markdown",
   "metadata": {},
   "source": [
    "#### Data Scaling"
   ]
  },
  {
   "cell_type": "code",
   "execution_count": 37,
   "metadata": {},
   "outputs": [
    {
     "data": {
      "text/html": [
       "<div>\n",
       "<style scoped>\n",
       "    .dataframe tbody tr th:only-of-type {\n",
       "        vertical-align: middle;\n",
       "    }\n",
       "\n",
       "    .dataframe tbody tr th {\n",
       "        vertical-align: top;\n",
       "    }\n",
       "\n",
       "    .dataframe thead th {\n",
       "        text-align: right;\n",
       "    }\n",
       "</style>\n",
       "<table border=\"1\" class=\"dataframe\">\n",
       "  <thead>\n",
       "    <tr style=\"text-align: right;\">\n",
       "      <th></th>\n",
       "      <th>Open</th>\n",
       "      <th>High</th>\n",
       "      <th>Low</th>\n",
       "      <th>Close</th>\n",
       "      <th>Volume</th>\n",
       "    </tr>\n",
       "  </thead>\n",
       "  <tbody>\n",
       "    <tr>\n",
       "      <th>count</th>\n",
       "      <td>1508.000000</td>\n",
       "      <td>1508.000000</td>\n",
       "      <td>1508.000000</td>\n",
       "      <td>1508.000000</td>\n",
       "      <td>1.508000e+03</td>\n",
       "    </tr>\n",
       "    <tr>\n",
       "      <th>mean</th>\n",
       "      <td>125.082411</td>\n",
       "      <td>126.543324</td>\n",
       "      <td>123.769054</td>\n",
       "      <td>125.184197</td>\n",
       "      <td>2.688360e+07</td>\n",
       "    </tr>\n",
       "    <tr>\n",
       "      <th>std</th>\n",
       "      <td>40.343980</td>\n",
       "      <td>40.719141</td>\n",
       "      <td>39.964044</td>\n",
       "      <td>40.364104</td>\n",
       "      <td>1.237241e+07</td>\n",
       "    </tr>\n",
       "    <tr>\n",
       "      <th>min</th>\n",
       "      <td>52.466458</td>\n",
       "      <td>53.201929</td>\n",
       "      <td>50.332364</td>\n",
       "      <td>52.471924</td>\n",
       "      <td>6.809800e+06</td>\n",
       "    </tr>\n",
       "    <tr>\n",
       "      <th>25%</th>\n",
       "      <td>93.430515</td>\n",
       "      <td>94.661089</td>\n",
       "      <td>91.994583</td>\n",
       "      <td>93.529945</td>\n",
       "      <td>1.873888e+07</td>\n",
       "    </tr>\n",
       "    <tr>\n",
       "      <th>50%</th>\n",
       "      <td>125.511096</td>\n",
       "      <td>126.554949</td>\n",
       "      <td>124.240414</td>\n",
       "      <td>125.598747</td>\n",
       "      <td>2.404885e+07</td>\n",
       "    </tr>\n",
       "    <tr>\n",
       "      <th>75%</th>\n",
       "      <td>150.762928</td>\n",
       "      <td>153.223959</td>\n",
       "      <td>149.079804</td>\n",
       "      <td>150.907288</td>\n",
       "      <td>3.151395e+07</td>\n",
       "    </tr>\n",
       "    <tr>\n",
       "      <th>max</th>\n",
       "      <td>254.779999</td>\n",
       "      <td>256.700012</td>\n",
       "      <td>252.067993</td>\n",
       "      <td>255.240005</td>\n",
       "      <td>9.779860e+07</td>\n",
       "    </tr>\n",
       "  </tbody>\n",
       "</table>\n",
       "</div>"
      ],
      "text/plain": [
       "              Open         High          Low        Close        Volume\n",
       "count  1508.000000  1508.000000  1508.000000  1508.000000  1.508000e+03\n",
       "mean    125.082411   126.543324   123.769054   125.184197  2.688360e+07\n",
       "std      40.343980    40.719141    39.964044    40.364104  1.237241e+07\n",
       "min      52.466458    53.201929    50.332364    52.471924  6.809800e+06\n",
       "25%      93.430515    94.661089    91.994583    93.529945  1.873888e+07\n",
       "50%     125.511096   126.554949   124.240414   125.598747  2.404885e+07\n",
       "75%     150.762928   153.223959   149.079804   150.907288  3.151395e+07\n",
       "max     254.779999   256.700012   252.067993   255.240005  9.779860e+07"
      ]
     },
     "execution_count": 37,
     "metadata": {},
     "output_type": "execute_result"
    }
   ],
   "source": [
    "# Check the distribution of input features\n",
    "data[features].describe()"
   ]
  },
  {
   "cell_type": "markdown",
   "metadata": {},
   "source": [
    "Looking at these details, it's noticeable and anticipated that all price values exhibit similar distributions given they log the price fluctuation on daily basis.\n",
    "\n",
    "Conversely, the trading volume presents a distinct distribution that differs significantly.\n",
    "\n",
    "Accordingly, input features need to be transformed into a unified scale and since the distribution doesn't indicate any outliers, we will use the [0,1] range to normalize all features.\n",
    "\n",
    "To prevent data leakage, we will fit the scaler solely to the training data. Subsequently, we will use this fitted scaler to transform the training, validation, and testing datasets."
   ]
  },
  {
   "cell_type": "code",
   "execution_count": 38,
   "metadata": {},
   "outputs": [],
   "source": [
    "# Initialize scaler with range [0,1]\n",
    "sc = MinMaxScaler(feature_range=(0,1))\n",
    "\n",
    "# Fit and transform scaler to training set\n",
    "data_train_scaled = sc.fit_transform(data_train)\n",
    "\n",
    "# Transform validating and testing datasets\n",
    "data_validate_scaled = sc.transform(data_validate)\n",
    "data_test_scaled = sc.transform(data_test)"
   ]
  },
  {
   "cell_type": "markdown",
   "metadata": {},
   "source": [
    "The scaler employed here will also be utilized in subsequent phases to revert the scaled data back to its original distribution. Therefore, it is essential to save this scaler to a local folder for future use."
   ]
  },
  {
   "cell_type": "code",
   "execution_count": 39,
   "metadata": {},
   "outputs": [
    {
     "data": {
      "text/plain": [
       "['..//models//google_stock_price_scaler.gz']"
      ]
     },
     "execution_count": 39,
     "metadata": {},
     "output_type": "execute_result"
    }
   ],
   "source": [
    "# Prepare scaler model name and location\n",
    "scaler_model_location = \"..//models//\"\n",
    "scaler_model_name = \"google_stock_price_scaler\"\n",
    "scaler_model_ext = \"gz\"\n",
    "\n",
    "# Store scaler model\n",
    "joblib.dump(sc, scaler_model_location + scaler_model_name + \".\" + scaler_model_ext)"
   ]
  },
  {
   "cell_type": "markdown",
   "metadata": {},
   "source": [
    "### 4. STORING PROCESSED DATASETS"
   ]
  },
  {
   "cell_type": "markdown",
   "metadata": {},
   "source": [
    "The training, validation, and testing datasets have been processed and are prepared for training the LSTM model in the next phase.\n",
    "\n",
    "Prior to saving these datasets, it is necessary to reassemble the dates corresponding to each dataset. This will facilitate later evaluation of the model's performance."
   ]
  },
  {
   "cell_type": "code",
   "execution_count": 40,
   "metadata": {},
   "outputs": [],
   "source": [
    "# Combine dates with each corresponding dataset\n",
    "data_train_scaled_final = pd.DataFrame(data_train_scaled, columns=features, index=None)\n",
    "data_train_scaled_final[\"Date\"] = data_train_dates.values\n",
    "\n",
    "data_validate_scaled_final = pd.DataFrame(data_validate_scaled, columns=features, index=None)\n",
    "data_validate_scaled_final[\"Date\"] = data_validate_dates.values\n",
    "\n",
    "data_test_scaled_final = pd.DataFrame(data_test_scaled, columns=features, index=None)\n",
    "data_test_scaled_final[\"Date\"] = data_test_dates.values"
   ]
  },
  {
   "cell_type": "code",
   "execution_count": 41,
   "metadata": {},
   "outputs": [],
   "source": [
    "# Prepare datasets files and location\n",
    "data_file_location = \"..//data//processed//\"\n",
    "data_file_name_train = \"google_stock_price_processed_train\"\n",
    "data_file_name_validate = \"google_stock_price_processed_validate\"\n",
    "data_file_name_test = \"google_stock_price_processed_test\"\n",
    "data_file_ext = \"csv\"\n",
    "\n",
    "# Store datasets\n",
    "data_train_scaled_final.to_csv(data_file_location + data_file_name_train + \".\" + data_file_ext, index=None)\n",
    "data_validate_scaled_final.to_csv(data_file_location + data_file_name_validate + \".\" + data_file_ext, index=None)\n",
    "data_test_scaled_final.to_csv(data_file_location + data_file_name_test + \".\" + data_file_ext, index=None)"
   ]
  },
  {
   "cell_type": "code",
   "execution_count": null,
   "metadata": {},
   "outputs": [],
   "source": []
  }
 ],
 "metadata": {
  "kernelspec": {
   "display_name": "venv",
   "language": "python",
   "name": "python3"
  },
  "language_info": {
   "codemirror_mode": {
    "name": "ipython",
    "version": 3
   },
   "file_extension": ".py",
   "mimetype": "text/x-python",
   "name": "python",
   "nbconvert_exporter": "python",
   "pygments_lexer": "ipython3",
   "version": "3.11.5"
  }
 },
 "nbformat": 4,
 "nbformat_minor": 2
}
